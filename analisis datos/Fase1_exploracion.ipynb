{
 "cells": [
  {
   "cell_type": "markdown",
   "id": "79073149",
   "metadata": {},
   "source": [
    "# ✅ 01 - EXPLORACIÓN (01_exploracion.ipynb)"
   ]
  },
  {
   "cell_type": "markdown",
   "id": "622f3498",
   "metadata": {},
   "source": [
    "## ✔️ Objetivo:\n",
    "Entender la estructura, tipo y distribución de los datos. Identificar posibles problemas antes de modelar."
   ]
  },
  {
   "cell_type": "markdown",
   "id": "1285ba5e",
   "metadata": {},
   "source": [
    "# Checklist: Exploración de Datos 🕵️‍♂️\n",
    "\n",
    "| **Tarea**                        | **Código de Ejemplo (usando pandas y seaborn)**                                                                 | **Consejo Profesional**                                                                                          |\n",
    "|----------------------------------|------------------------------------------------------------------------------------------------------------------|------------------------------------------------------------------------------------------------------------------|\n",
    "| **1. Cargar Datos**              | ```python import pandas as pd df = pd.read_csv('data/raw/tu_dataset.csv')```                               | Usa rutas relativas para que tu proyecto sea portable.                                                          |\n",
    "| **2. Inspección Inicial**        | ```python df.head() df.info() df.shape```                                                                | `df.info()` es clave. Te da el conteo de no nulos y el tipo de dato (`Dtype`), tu primera pista sobre limpieza. |\n",
    "| **3. Estadísticas Descriptivas** | ```python df.describe(include='all')```                                                                        | `include='all'` muestra estadísticas tanto para columnas numéricas como categóricas. ¡Muy útil!                 |\n",
    "| **4. Nulos y Duplicados**        | ```python df.isnull().sum() df.duplicated().sum()```                                                        | Visualiza los nulos con un mapa de calor: ```python sns.heatmap(df.isnull(), cbar=False)```              |\n",
    "| **5. Análisis Univariado**       | ```python sns.histplot(data=df, x='columna_numerica', kde=True) sns.countplot(data=df, x='columna_categorica')``` | Analiza cada variable por separado. ¿Distribución normal? ¿Categorías desbalanceadas?                          |\n",
    "| **6. Bivariado / Multivariado**  | ```python sns.scatterplot(data=df, x='var1', y='var2') sns.heatmap(df.corr(numeric_only=True), annot=True) sns.pairplot(df)``` | El heatmap es esencial para ver relaciones lineales. `pairplot` da visión general, pero es lento con muchos datos. |\n",
    "| **7. Documentar Hallazgos**      | _Usa markdown en tu notebook_                                                                                    | Ejemplo: _“La variable `edad` tiene una distribución sesgada a la derecha”, “Alta correlación entre `ingresos` y `gastos`”._ |\n"
   ]
  },
  {
   "cell_type": "markdown",
   "id": "2a918fa1",
   "metadata": {},
   "source": [
    "## [___] 1. Cargar los datos\n"
   ]
  },
  {
   "cell_type": "code",
   "execution_count": null,
   "id": "70decfc8",
   "metadata": {},
   "outputs": [],
   "source": [
    "import pandas as pd\n",
    "\n",
    "df = pd.read_csv(\"data/raw/archivo.csv\")\n"
   ]
  },
  {
   "cell_type": "markdown",
   "id": "db9e4782",
   "metadata": {},
   "source": [
    "## [___] 2. Revisar dimensiones y estructura\n"
   ]
  },
  {
   "cell_type": "code",
   "execution_count": null,
   "id": "2c560594",
   "metadata": {},
   "outputs": [],
   "source": [
    "\n",
    "# [  ] Revisar dimensiones y estructura\n",
    "df.shape # (rows, columns) \n",
    "\n",
    "# [  ] Mostrar información del DataFrame\n",
    "df.info()\n",
    "\n",
    "# [  ] Mostrar las primeras filas del DataFrame\n",
    "df.head()\n",
    "\n",
    "# [  ] Mostrar los nombres de las columnas del DataFrame\n",
    "df.columns"
   ]
  },
  {
   "cell_type": "markdown",
   "id": "06f4f1b3",
   "metadata": {},
   "source": [
    "Consejo Profesional: El comando df.info() es tu mejor amigo al inicio. Te da un mapa rápido de qué columnas necesitan ser corregidas (ej. una fecha como object) y dónde podrías tener valores faltantes.\n",
    "\n"
   ]
  },
  {
   "cell_type": "markdown",
   "id": "b46a1d0d",
   "metadata": {},
   "source": [
    "## [___] 3. Tipos de datos y valores nulos\n"
   ]
  },
  {
   "cell_type": "code",
   "execution_count": null,
   "id": "86c1b76f",
   "metadata": {},
   "outputs": [],
   "source": [
    "# [  ] Mostrar los tipos de datos de cada columna del DataFrame\n",
    "df.dtypes\n",
    "\n",
    "# [  ] Verificar si hay valores nulos en el DataFrame\n",
    "df.isnull().sum()\n",
    "\n",
    "# [  ] Calcular el porcentaje de valores nulos en cada columna del DataFrame\n",
    "df.isna().mean() * 100\n"
   ]
  },
  {
   "cell_type": "markdown",
   "id": "79b33d49",
   "metadata": {},
   "source": [
    "## [__] 4. Describir datos numéricos y categóricos\n"
   ]
  },
  {
   "cell_type": "code",
   "execution_count": null,
   "id": "fb8168bb",
   "metadata": {},
   "outputs": [],
   "source": [
    "# [  ] Describir datos numéricos \n",
    "df.describe()\n",
    "\n",
    "#[  ] Describir datos object\n",
    "df.describe(include='object')"
   ]
  },
  {
   "cell_type": "markdown",
   "id": "b8794364",
   "metadata": {},
   "source": [
    "## [__] 5. Distribuciones y outliers"
   ]
  },
  {
   "cell_type": "code",
   "execution_count": null,
   "id": "aed16e4b",
   "metadata": {},
   "outputs": [],
   "source": [
    "#[__] Crear un diagrama de caja (boxplot)\n",
    "sns.boxplot(data=df[['columna_num1', 'columna_num2']])\n",
    "plt.xticks(rotation=45)\n",
    "plt.show()"
   ]
  },
  {
   "cell_type": "markdown",
   "id": "9b20a7b2",
   "metadata": {},
   "source": [
    "## [__] Cardinalidad de variables categóricas\n",
    "La cardinalidad en este contexto se refiere al número de valores únicos que tiene una variable categórica.\n",
    "\n"
   ]
  },
  {
   "cell_type": "code",
   "execution_count": null,
   "id": "deee3f4a",
   "metadata": {},
   "outputs": [],
   "source": [
    "# Selecciona solo las columnas de tipo 'object' o 'category' (típicas de variables categóricas)\n",
    "columnas_categoricas = df.select_dtypes(include=['object', 'category']).columns\n",
    "\n",
    "# Cuenta cuántos valores únicos tiene cada columna categórica\n",
    "cardinalidades = df[columnas_categoricas].nunique()"
   ]
  },
  {
   "cell_type": "markdown",
   "id": "34d0bffc",
   "metadata": {},
   "source": [
    "## [__] Deteccion Duplicados"
   ]
  },
  {
   "cell_type": "code",
   "execution_count": null,
   "id": "530d2dca",
   "metadata": {},
   "outputs": [],
   "source": [
    "\n",
    "df.duplicated().sum()\n"
   ]
  },
  {
   "cell_type": "markdown",
   "id": "d3668228",
   "metadata": {},
   "source": [
    "Consejos:\n",
    "Usa df.sample(10) para revisar ejemplos al azar.\n",
    "\n",
    "Usa histogramas (df.hist()) para detectar sesgos.\n",
    "\n",
    "Aplica sns.heatmap(df.corr(), annot=True) para relaciones numéricas.\n",
    "\n"
   ]
  }
 ],
 "metadata": {
  "kernelspec": {
   "display_name": "program_exercise",
   "language": "python",
   "name": "python3"
  },
  "language_info": {
   "codemirror_mode": {
    "name": "ipython",
    "version": 3
   },
   "file_extension": ".py",
   "mimetype": "text/x-python",
   "name": "python",
   "nbconvert_exporter": "python",
   "pygments_lexer": "ipython3",
   "version": "3.10.18"
  }
 },
 "nbformat": 4,
 "nbformat_minor": 5
}
