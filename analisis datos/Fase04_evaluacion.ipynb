{
 "cells": [
  {
   "cell_type": "markdown",
   "id": "ae139ab6",
   "metadata": {},
   "source": [
    "| Tarea                      | Código de Ejemplo                                                 | Consejo Profesional                                        |\n",
    "| -------------------------- | ----------------------------------------------------------------- | ---------------------------------------------------------- |\n",
    "| Predicción                 | `y_pred = model.predict(X_test)`                                  | Usa datos que el modelo nunca ha visto.                    |\n",
    "| Métricas                   | `accuracy_score`<br>`classification_report`<br>`confusion_matrix` | Si hay desbalance, F1-Score es mejor métrica que accuracy. |\n",
    "| Matriz de confusión        | `sns.heatmap(confusion_matrix(y_test, y_pred), annot=True)`       | Detecta en qué clase falla más.                            |\n",
    "| Curva ROC                  | `roc_curve` + `auc`                                               | Ideal para evaluar clasificadores binarios.                |\n",
    "| Curva Precision-Recall     | `precision_recall_curve`                                          | Útil cuando las clases positivas son raras.                |\n",
    "| Importancia de variables   | `model.feature_importances_` (modelos tipo árbol)                 | Ayuda a interpretar el modelo.                             |\n",
    "| Explicabilidad (SHAP/LIME) | `shap.Explainer(model, X_train)`                                  | Muy útil para reportes o explicar decisiones.              |\n",
    "| Comunicar hallazgos        | Markdown + visualizaciones                                        | Usa lenguaje no técnico para stakeholders.                 |\n"
   ]
  },
  {
   "cell_type": "markdown",
   "id": "0044f3c3",
   "metadata": {},
   "source": [
    "# ✅ 04 - EVALUACIÓN (04_evaluacion.ipynb)\n"
   ]
  },
  {
   "cell_type": "markdown",
   "id": "f7c36ad0",
   "metadata": {},
   "source": [
    "## [__] 1. Matriz de confusión y métricas"
   ]
  },
  {
   "cell_type": "code",
   "execution_count": null,
   "id": "6b35e64c",
   "metadata": {},
   "outputs": [],
   "source": [
    "from sklearn.metrics import classification_report, confusion_matrix\n",
    "\n",
    "print(confusion_matrix(y_test, y_pred))\n",
    "print(classification_report(y_test, y_pred))\n"
   ]
  },
  {
   "cell_type": "markdown",
   "id": "a5461c7b",
   "metadata": {},
   "source": [
    "## [__] 2. Curvas ROC/AUC (clasificación binaria)\n"
   ]
  }
 ],
 "metadata": {
  "kernelspec": {
   "display_name": "program_exercise",
   "language": "python",
   "name": "python3"
  },
  "language_info": {
   "name": "python",
   "version": "3.10.18"
  }
 },
 "nbformat": 4,
 "nbformat_minor": 5
}
